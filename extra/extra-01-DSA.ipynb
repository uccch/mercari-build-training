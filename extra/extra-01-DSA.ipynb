{
 "cells": [
  {
   "cell_type": "markdown",
   "metadata": {
    "collapsed": false
   },
   "source": [
    "# Extra1 アルゴリズムとデータ構造"
   ]
  },
  {
   "cell_type": "markdown",
   "metadata": {
    "collapsed": false
   },
   "source": [
    "## 演習1 Word Pattern\n",
    "\n",
    "英小文字からなるパターン p と、空白区切りの文字列 s が与えられるので、s が p に従うかどうかを判定してください。 例えば、p = \"abba\", s = \"dog cat cat dog\" の場合 s は p に従い、p=\"abba\", s=\"dog cat cat fish\" の場合 s は p に従いません。"
   ]
  },
  {
   "cell_type": "code",
   "execution_count": null,
   "metadata": {
    "ExecuteTime": {
     "end_time": "2024-01-30T09:43:30.572877Z",
     "start_time": "2024-01-30T09:43:30.544578Z"
    },
    "collapsed": false,
    "vscode": {
     "languageId": "cpp"
    }
   },
   "outputs": [],
   "source": [
    "#include <vector>\n",
    "#include <sstream>\n",
    "#include <unordered_map>\n",
    "#include <string>\n",
    "#include <unordered_map>\n",
    "\n",
    "class Solution {\n",
    "public:\n",
    "    bool wordPattern(string pattern, string s) {\n",
    "        istringstream ss(s);                                  //sをスペースで分割\n",
    "        string word;\n",
    "        unordered_map<char, string> char_word;\n",
    "        unordered_map<string, char> word_char;\n",
    "\n",
    "        int i = 0;\n",
    "        while (ss >> word) {                                  //分割したssを順にwordに入れていく\n",
    "            if (i >= pattern.length())\n",
    "            return false;\n",
    "\n",
    "        char c = pattern[i];                                  //cにpatternの各文字を入れていく\n",
    "        if (char_word.find(c) != char_word.end()) {           //patternに同じ文字があるか探す\n",
    "            if (char_word[c] != word)                         //patternに同じ文字があったら... cに対応するwordが今登録されているものと違う場合はfalse\n",
    "                return false;\n",
    "        } else {                                              //patternに同じ文字がなかったら...\n",
    "            if (word_char.find(word) != word_char.end())      //sに同じ単語があるか探す もしwordがすでにwordToCharに登録されていれば、同じ単語が異なるpatternキーの位置にあるのでfalse\n",
    "                return false;\n",
    "　　　　　　　　　　　　　　　　　　　　　　　　　　　　　　　　　　　　　 //まずここ！\n",
    "            char_word[c] = word;                              //新しいpatternの文字キーcに対応する単語wordをcharToWord[c]に追加\n",
    "            word_char[word] = c;                              //単語wordに対応するキーcをwordToChar[word]に追加(ここではwordがキーになる？)\n",
    "        }\n",
    "            i++;\n",
    "        }\n",
    "\n",
    "    return i == pattern.length();                             //whileでfalseが出ないかつpatternの文字数がwordの単語数と一致すればtrue\n",
    "}\n",
    "    };"
   ]
  },
  {
   "cell_type": "markdown",
   "id": "f66ebc9a",
   "metadata": {},
   "source": [
    "unordered_mapについて　https://ez-net.jp/article/35/OdzWUCZI/5Yyepp9qa3SA/"
   ]
  },
  {
   "cell_type": "markdown",
   "metadata": {
    "collapsed": false
   },
   "source": [
    "## 演習2 Find All Numbers Disappeared in an Array\n",
    "\n",
    "n 個の整数からなる配列 nums が与えられ、nums[i] は [1, n] の範囲にあります。この配列に現れない [1, n] の範囲のすべての整数を返してください。"
   ]
  },
  {
   "cell_type": "code",
   "execution_count": null,
   "metadata": {
    "ExecuteTime": {
     "end_time": "2024-01-30T09:43:30.572958Z",
     "start_time": "2024-01-30T09:43:30.555459Z"
    },
    "collapsed": false,
    "vscode": {
     "languageId": "cpp"
    }
   },
   "outputs": [],
   "source": [
    "// ===== Step1: O(n^2)-time and O(1)-space で解く  =====\n",
    "class Solution {\n",
    "public:\n",
    "    vector<int> findDisappearedNumbers(vector<int>& nums) {\n",
    "        int num_size = nums.size();\n",
    "        vector<int> ans;                                     //出現しなかった要素を追加するリスト\n",
    "\n",
    "        for(int i = 1; i <= num_size; i++) {\n",
    "            bool found = false;\n",
    "            for(int j = 0; j < num_size; j++) {\n",
    "                if(nums[j] == i) {\n",
    "                    found = true;\n",
    "                    break;                                   //見つかったらループから抜ける\n",
    "                }\n",
    "            }\n",
    "            if (!found) {\n",
    "                ans.push_back(i);                  　        //見つからなかったらリストに追加\n",
    "            }\n",
    "        }\n",
    "        return ans;\n",
    "    }\n",
    "};"
   ]
  },
  {
   "cell_type": "code",
   "execution_count": null,
   "metadata": {
    "ExecuteTime": {
     "end_time": "2024-01-30T09:43:30.573023Z",
     "start_time": "2024-01-30T09:43:30.558276Z"
    },
    "collapsed": false,
    "vscode": {
     "languageId": "cpp"
    }
   },
   "outputs": [],
   "source": [
    "// ===== Step2: O(n)-time and O(n)-space で解く =====\n",
    "class Solution {\n",
    "public:\n",
    "    vector<int> findDisappearedNumbers(vector<int>& nums) {\n",
    "        int num_size = nums.size();\n",
    "        vector<bool> appeared(num_size, false);                  // 要素の出現を記録する配列\n",
    "        vector<int> ans;\n",
    "\n",
    "        for(int num : nums) {                                    // nums 内の要素が出現したかどうかを記録する\n",
    "            appeared[num - 1] = true;                            // 出現した要素のインデックスをtrueに設定する\n",
    "        }\n",
    "\n",
    "        for(int i = 0; i < num_size; i++) {\n",
    "            if (!appeared[i]) {\n",
    "                ans.push_back(i + 1);                            // 出現しなかった要素をリストに追加する\n",
    "            }\n",
    "        }\n",
    "        return ans;\n",
    "    }\n",
    "};"
   ]
  },
  {
   "cell_type": "markdown",
   "metadata": {
    "collapsed": false
   },
   "source": [
    "## 演習3 Intersection of Two Linked Lists\n",
    "\n",
    "2 つの単方向 Linked List が与えられるので、2 つのリストが交差するノードを返してください。交差しない場合は、null を返してください。"
   ]
  },
  {
   "cell_type": "code",
   "execution_count": null,
   "metadata": {
    "ExecuteTime": {
     "end_time": "2024-01-30T09:43:30.577368Z",
     "start_time": "2024-01-30T09:43:30.574242Z"
    },
    "collapsed": false,
    "vscode": {
     "languageId": "cpp"
    }
   },
   "outputs": [],
   "source": [
    "// ===== Step1: O(n)-time and O(n)-space で解く =====\n",
    "using namespace std;\n",
    "\n",
    " Definition for singly-linked list.\n",
    " struct ListNode {\n",
    "     int val;\n",
    "     ListNode *next;\n",
    "     ListNode(int x) : val(x), next(NULL) {}\n",
    " };\n",
    " \n",
    "class Solution {\n",
    "public:\n",
    "    ListNode *getIntersectionNode(ListNode *headA, ListNode *headB) {\n",
    "        unordered_map<ListNode*, bool> visited;\n",
    "        ListNode* currentA = headA;\n",
    "        ListNode* currentB = headB;\n",
    "        \n",
    "        while (currentA != nullptr) {\n",
    "            visited[currentA] = true;                                   //ListNodeAが通った数字をキーとしてmapに記録する(値はtrue)\n",
    "            currentA = currentA->next;\n",
    "        }\n",
    "        \n",
    "        while (currentB != nullptr) {\n",
    "            if (visited.find(currentB) != visited.end()) {              //Bの通る数字をキーとしてmapに入れ、trueであればAが通っている→そのキーを返す\n",
    "                return currentB;\n",
    "            }\n",
    "            currentB = currentB->next;\n",
    "        }\n",
    "        \n",
    "        return nullptr;                                                 //Bの通る数字をキーとして値が返ってこなければnullを返す\n",
    "\n",
    "    }\n",
    "};"
   ]
  },
  {
   "cell_type": "markdown",
   "metadata": {
    "collapsed": false
   },
   "source": [
    "Listnodeについて　https://qiita.com/yokoto/items/3bbe3754cf378d54f55c"
   ]
  },
  {
   "cell_type": "code",
   "execution_count": null,
   "metadata": {
    "collapsed": false,
    "vscode": {
     "languageId": "cpp"
    }
   },
   "outputs": [],
   "source": [
    "// ===== Step2: O(n)-time and O(1)-space で解く =====\n",
    "using namespace std;\n",
    "\n",
    "Definition for singly-linked list.\n",
    "  struct ListNode {\n",
    "      int val;\n",
    "      ListNode *next;\n",
    "      ListNode(int x) : val(x), next(NULL) {}\n",
    "  };\n",
    " \n",
    "class Solution {\n",
    "     int getListLength(ListNode* head) {                                //getListLength関数\n",
    "        int length = 0;\n",
    "        while (head != nullptr) {\n",
    "            length++;\n",
    "            head = head->next;\n",
    "        }\n",
    "        return length;\n",
    "    }\n",
    "public:\n",
    "    ListNode *getIntersectionNode(ListNode *headA, ListNode *headB) {\n",
    "        ListNode* currentA = headA;\n",
    "        ListNode* currentB = headB;\n",
    "        \n",
    "        int lengthA = getListLength(headA);\n",
    "        int lengthB = getListLength(headB);\n",
    "        \n",
    "        while (lengthA > lengthB) {                                     //AがBより長いとき、同じ長さになるまで前の数字を消していく\n",
    "            currentA = currentA->next;                                  //listA = [4,1,8,4,5], listB = [8,4,5]のとき、4と1を順に消していく\n",
    "            lengthA--;\n",
    "        }\n",
    "        \n",
    "        while (lengthB > lengthA) {\n",
    "            currentB = currentB->next;\n",
    "            lengthB--;\n",
    "        }\n",
    "        \n",
    "        while (currentA != currentB) {                                  //同じ長さになったら同じ数字が出てくるまでListを進める\n",
    "            currentA = currentA->next;\n",
    "            currentB = currentB->next;\n",
    "        }\n",
    "        \n",
    "        return currentA;                                                //同じ長さかつ同じ数字が出てきたらその数字を返す\n",
    "    }\n",
    "    \n",
    "};"
   ]
  }
 ],
 "metadata": {
  "kernelspec": {
   "display_name": "Python 3 (ipykernel)",
   "language": "python",
   "name": "python3"
  },
  "language_info": {
   "codemirror_mode": {
    "name": "ipython",
    "version": 3
   },
   "file_extension": ".py",
   "mimetype": "text/x-python",
   "name": "python",
   "nbconvert_exporter": "python",
   "pygments_lexer": "ipython3",
   "version": "3.10.11"
  }
 },
 "nbformat": 4,
 "nbformat_minor": 5
}
